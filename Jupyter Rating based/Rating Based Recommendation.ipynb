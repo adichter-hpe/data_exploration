{
 "cells": [
  {
   "cell_type": "markdown",
   "id": "2dc70130",
   "metadata": {},
   "source": [
    "# Rating Based Recommendation"
   ]
  },
  {
   "cell_type": "markdown",
   "id": "9a886bcc",
   "metadata": {},
   "source": [
    "### Importing packages and data"
   ]
  },
  {
   "cell_type": "code",
   "execution_count": 171,
   "id": "6e4bdc42",
   "metadata": {},
   "outputs": [],
   "source": [
    "import numpy as np\n",
    "import pandas as pd\n",
    "import sklearn\n",
    "from scipy import sparse\n",
    "import matplotlib.pyplot as plt\n",
    "import seaborn as sns\n",
    "import collections\n",
    "import random\n",
    "import copy\n",
    "sns.set_style('whitegrid')\n",
    "#matplotlib inline"
   ]
  },
  {
   "cell_type": "code",
   "execution_count": 320,
   "id": "26851410",
   "metadata": {},
   "outputs": [],
   "source": [
    "ratings = pd.read_csv (r'./../data/ratings.csv')\n",
    "movies = pd.read_csv (r'./../data/movies.csv')"
   ]
  },
  {
   "cell_type": "markdown",
   "id": "aaf6ebd1",
   "metadata": {},
   "source": [
    "### Viewing data"
   ]
  },
  {
   "cell_type": "code",
   "execution_count": 314,
   "id": "a34a771c",
   "metadata": {},
   "outputs": [
    {
     "data": {
      "text/html": [
       "<div>\n",
       "<style scoped>\n",
       "    .dataframe tbody tr th:only-of-type {\n",
       "        vertical-align: middle;\n",
       "    }\n",
       "\n",
       "    .dataframe tbody tr th {\n",
       "        vertical-align: top;\n",
       "    }\n",
       "\n",
       "    .dataframe thead th {\n",
       "        text-align: right;\n",
       "    }\n",
       "</style>\n",
       "<table border=\"1\" class=\"dataframe\">\n",
       "  <thead>\n",
       "    <tr style=\"text-align: right;\">\n",
       "      <th></th>\n",
       "      <th>userId</th>\n",
       "      <th>movieId</th>\n",
       "      <th>rating</th>\n",
       "      <th>timestamp</th>\n",
       "    </tr>\n",
       "  </thead>\n",
       "  <tbody>\n",
       "    <tr>\n",
       "      <th>0</th>\n",
       "      <td>1</td>\n",
       "      <td>110</td>\n",
       "      <td>1.0</td>\n",
       "      <td>1425941529</td>\n",
       "    </tr>\n",
       "    <tr>\n",
       "      <th>1</th>\n",
       "      <td>1</td>\n",
       "      <td>147</td>\n",
       "      <td>4.5</td>\n",
       "      <td>1425942435</td>\n",
       "    </tr>\n",
       "    <tr>\n",
       "      <th>2</th>\n",
       "      <td>1</td>\n",
       "      <td>858</td>\n",
       "      <td>5.0</td>\n",
       "      <td>1425941523</td>\n",
       "    </tr>\n",
       "    <tr>\n",
       "      <th>3</th>\n",
       "      <td>1</td>\n",
       "      <td>1221</td>\n",
       "      <td>5.0</td>\n",
       "      <td>1425941546</td>\n",
       "    </tr>\n",
       "    <tr>\n",
       "      <th>4</th>\n",
       "      <td>1</td>\n",
       "      <td>1246</td>\n",
       "      <td>5.0</td>\n",
       "      <td>1425941556</td>\n",
       "    </tr>\n",
       "  </tbody>\n",
       "</table>\n",
       "</div>"
      ],
      "text/plain": [
       "   userId  movieId  rating   timestamp\n",
       "0       1      110     1.0  1425941529\n",
       "1       1      147     4.5  1425942435\n",
       "2       1      858     5.0  1425941523\n",
       "3       1     1221     5.0  1425941546\n",
       "4       1     1246     5.0  1425941556"
      ]
     },
     "execution_count": 314,
     "metadata": {},
     "output_type": "execute_result"
    }
   ],
   "source": [
    "ratings.head()"
   ]
  },
  {
   "cell_type": "code",
   "execution_count": 315,
   "id": "2d8be12e",
   "metadata": {},
   "outputs": [
    {
     "data": {
      "text/html": [
       "<div>\n",
       "<style scoped>\n",
       "    .dataframe tbody tr th:only-of-type {\n",
       "        vertical-align: middle;\n",
       "    }\n",
       "\n",
       "    .dataframe tbody tr th {\n",
       "        vertical-align: top;\n",
       "    }\n",
       "\n",
       "    .dataframe thead th {\n",
       "        text-align: right;\n",
       "    }\n",
       "</style>\n",
       "<table border=\"1\" class=\"dataframe\">\n",
       "  <thead>\n",
       "    <tr style=\"text-align: right;\">\n",
       "      <th></th>\n",
       "      <th>movieId</th>\n",
       "      <th>title</th>\n",
       "      <th>genres</th>\n",
       "    </tr>\n",
       "  </thead>\n",
       "  <tbody>\n",
       "    <tr>\n",
       "      <th>0</th>\n",
       "      <td>1</td>\n",
       "      <td>Toy Story (1995)</td>\n",
       "      <td>Adventure|Animation|Children|Comedy|Fantasy</td>\n",
       "    </tr>\n",
       "    <tr>\n",
       "      <th>1</th>\n",
       "      <td>2</td>\n",
       "      <td>Jumanji (1995)</td>\n",
       "      <td>Adventure|Children|Fantasy</td>\n",
       "    </tr>\n",
       "    <tr>\n",
       "      <th>2</th>\n",
       "      <td>3</td>\n",
       "      <td>Grumpier Old Men (1995)</td>\n",
       "      <td>Comedy|Romance</td>\n",
       "    </tr>\n",
       "    <tr>\n",
       "      <th>3</th>\n",
       "      <td>4</td>\n",
       "      <td>Waiting to Exhale (1995)</td>\n",
       "      <td>Comedy|Drama|Romance</td>\n",
       "    </tr>\n",
       "    <tr>\n",
       "      <th>4</th>\n",
       "      <td>5</td>\n",
       "      <td>Father of the Bride Part II (1995)</td>\n",
       "      <td>Comedy</td>\n",
       "    </tr>\n",
       "  </tbody>\n",
       "</table>\n",
       "</div>"
      ],
      "text/plain": [
       "   movieId                               title  \\\n",
       "0        1                    Toy Story (1995)   \n",
       "1        2                      Jumanji (1995)   \n",
       "2        3             Grumpier Old Men (1995)   \n",
       "3        4            Waiting to Exhale (1995)   \n",
       "4        5  Father of the Bride Part II (1995)   \n",
       "\n",
       "                                        genres  \n",
       "0  Adventure|Animation|Children|Comedy|Fantasy  \n",
       "1                   Adventure|Children|Fantasy  \n",
       "2                               Comedy|Romance  \n",
       "3                         Comedy|Drama|Romance  \n",
       "4                                       Comedy  "
      ]
     },
     "execution_count": 315,
     "metadata": {},
     "output_type": "execute_result"
    }
   ],
   "source": [
    "movies.head()"
   ]
  },
  {
   "cell_type": "markdown",
   "id": "1dd335b2",
   "metadata": {},
   "source": [
    "### Creating table with movieId total count of ratings for each movie id"
   ]
  },
  {
   "cell_type": "code",
   "execution_count": 316,
   "id": "42d5d0e8",
   "metadata": {},
   "outputs": [
    {
     "data": {
      "text/html": [
       "<div>\n",
       "<style scoped>\n",
       "    .dataframe tbody tr th:only-of-type {\n",
       "        vertical-align: middle;\n",
       "    }\n",
       "\n",
       "    .dataframe tbody tr th {\n",
       "        vertical-align: top;\n",
       "    }\n",
       "\n",
       "    .dataframe thead th {\n",
       "        text-align: right;\n",
       "    }\n",
       "</style>\n",
       "<table border=\"1\" class=\"dataframe\">\n",
       "  <thead>\n",
       "    <tr style=\"text-align: right;\">\n",
       "      <th></th>\n",
       "      <th>rating</th>\n",
       "      <th>count</th>\n",
       "    </tr>\n",
       "    <tr>\n",
       "      <th>movieId</th>\n",
       "      <th></th>\n",
       "      <th></th>\n",
       "    </tr>\n",
       "  </thead>\n",
       "  <tbody>\n",
       "    <tr>\n",
       "      <th>1</th>\n",
       "      <td>3.888157</td>\n",
       "      <td>66008</td>\n",
       "    </tr>\n",
       "    <tr>\n",
       "      <th>2</th>\n",
       "      <td>3.236953</td>\n",
       "      <td>26060</td>\n",
       "    </tr>\n",
       "    <tr>\n",
       "      <th>3</th>\n",
       "      <td>3.175550</td>\n",
       "      <td>15497</td>\n",
       "    </tr>\n",
       "    <tr>\n",
       "      <th>4</th>\n",
       "      <td>2.875713</td>\n",
       "      <td>2981</td>\n",
       "    </tr>\n",
       "    <tr>\n",
       "      <th>5</th>\n",
       "      <td>3.079565</td>\n",
       "      <td>15258</td>\n",
       "    </tr>\n",
       "  </tbody>\n",
       "</table>\n",
       "</div>"
      ],
      "text/plain": [
       "           rating  count\n",
       "movieId                 \n",
       "1        3.888157  66008\n",
       "2        3.236953  26060\n",
       "3        3.175550  15497\n",
       "4        2.875713   2981\n",
       "5        3.079565  15258"
      ]
     },
     "execution_count": 316,
     "metadata": {},
     "output_type": "execute_result"
    }
   ],
   "source": [
    "rating_info = pd.DataFrame(ratings.groupby('movieId')['rating'].mean())\n",
    "rating_info['count'] = pd.DataFrame(ratings.groupby('movieId')['rating'].count())\n",
    "rating_info.head()"
   ]
  },
  {
   "cell_type": "markdown",
   "id": "be03bc62",
   "metadata": {},
   "source": [
    "### Analyzing data by viewing graphs\n",
    "checking if suitable for correlation"
   ]
  },
  {
   "cell_type": "code",
   "execution_count": 317,
   "id": "7fb14b68",
   "metadata": {},
   "outputs": [
    {
     "data": {
      "text/plain": [
       "<AxesSubplot:>"
      ]
     },
     "execution_count": 317,
     "metadata": {},
     "output_type": "execute_result"
    },
    {
     "data": {
      "image/png": "[encoded data removed]",
      "text/plain": [
       "<Figure size 720x288 with 1 Axes>"
      ]
     },
     "metadata": {},
     "output_type": "display_data"
    }
   ],
   "source": [
    "plt.figure(figsize=(10,4))\n",
    "rating_info['rating'].hist(bins=70)"
   ]
  },
  {
   "cell_type": "code",
   "execution_count": 318,
   "id": "557bab33",
   "metadata": {},
   "outputs": [
    {
     "data": {
      "text/plain": [
       "<seaborn.axisgrid.JointGrid at 0x1a29f7311f0>"
      ]
     },
     "execution_count": 318,
     "metadata": {},
     "output_type": "execute_result"
    },
    {
     "data": {
      "image/png": "[encoded data removed]",
      "text/plain": [
       "<Figure size 432x432 with 3 Axes>"
      ]
     },
     "metadata": {},
     "output_type": "display_data"
    }
   ],
   "source": [
    "sns.jointplot(x='rating', y='count', data=rating_info)"
   ]
  },
  {
   "cell_type": "markdown",
   "id": "4b4e8531",
   "metadata": {},
   "source": [
    "Ratings are rudimentarily normally distributed \n",
    "* therefore correlation is applicable"
   ]
  },
  {
   "cell_type": "markdown",
   "id": "d74cd73c",
   "metadata": {},
   "source": [
    "### Creating pivot table with ratings for each movie from each user"
   ]
  },
  {
   "cell_type": "code",
   "execution_count": 321,
   "id": "085bfccd",
   "metadata": {},
   "outputs": [
    {
     "data": {
      "text/html": [
       "<div>\n",
       "<style scoped>\n",
       "    .dataframe tbody tr th:only-of-type {\n",
       "        vertical-align: middle;\n",
       "    }\n",
       "\n",
       "    .dataframe tbody tr th {\n",
       "        vertical-align: top;\n",
       "    }\n",
       "\n",
       "    .dataframe thead th {\n",
       "        text-align: right;\n",
       "    }\n",
       "</style>\n",
       "<table border=\"1\" class=\"dataframe\">\n",
       "  <thead>\n",
       "    <tr style=\"text-align: right;\">\n",
       "      <th>movieId</th>\n",
       "      <th>1</th>\n",
       "      <th>2</th>\n",
       "      <th>3</th>\n",
       "      <th>4</th>\n",
       "      <th>5</th>\n",
       "      <th>6</th>\n",
       "      <th>7</th>\n",
       "      <th>8</th>\n",
       "      <th>9</th>\n",
       "      <th>10</th>\n",
       "      <th>...</th>\n",
       "      <th>193565</th>\n",
       "      <th>193567</th>\n",
       "      <th>193571</th>\n",
       "      <th>193573</th>\n",
       "      <th>193579</th>\n",
       "      <th>193581</th>\n",
       "      <th>193583</th>\n",
       "      <th>193585</th>\n",
       "      <th>193587</th>\n",
       "      <th>193609</th>\n",
       "    </tr>\n",
       "    <tr>\n",
       "      <th>userId</th>\n",
       "      <th></th>\n",
       "      <th></th>\n",
       "      <th></th>\n",
       "      <th></th>\n",
       "      <th></th>\n",
       "      <th></th>\n",
       "      <th></th>\n",
       "      <th></th>\n",
       "      <th></th>\n",
       "      <th></th>\n",
       "      <th></th>\n",
       "      <th></th>\n",
       "      <th></th>\n",
       "      <th></th>\n",
       "      <th></th>\n",
       "      <th></th>\n",
       "      <th></th>\n",
       "      <th></th>\n",
       "      <th></th>\n",
       "      <th></th>\n",
       "      <th></th>\n",
       "    </tr>\n",
       "  </thead>\n",
       "  <tbody>\n",
       "    <tr>\n",
       "      <th>1</th>\n",
       "      <td>4.0</td>\n",
       "      <td>NaN</td>\n",
       "      <td>4.0</td>\n",
       "      <td>NaN</td>\n",
       "      <td>NaN</td>\n",
       "      <td>4.0</td>\n",
       "      <td>NaN</td>\n",
       "      <td>NaN</td>\n",
       "      <td>NaN</td>\n",
       "      <td>NaN</td>\n",
       "      <td>...</td>\n",
       "      <td>NaN</td>\n",
       "      <td>NaN</td>\n",
       "      <td>NaN</td>\n",
       "      <td>NaN</td>\n",
       "      <td>NaN</td>\n",
       "      <td>NaN</td>\n",
       "      <td>NaN</td>\n",
       "      <td>NaN</td>\n",
       "      <td>NaN</td>\n",
       "      <td>NaN</td>\n",
       "    </tr>\n",
       "    <tr>\n",
       "      <th>2</th>\n",
       "      <td>NaN</td>\n",
       "      <td>NaN</td>\n",
       "      <td>NaN</td>\n",
       "      <td>NaN</td>\n",
       "      <td>NaN</td>\n",
       "      <td>NaN</td>\n",
       "      <td>NaN</td>\n",
       "      <td>NaN</td>\n",
       "      <td>NaN</td>\n",
       "      <td>NaN</td>\n",
       "      <td>...</td>\n",
       "      <td>NaN</td>\n",
       "      <td>NaN</td>\n",
       "      <td>NaN</td>\n",
       "      <td>NaN</td>\n",
       "      <td>NaN</td>\n",
       "      <td>NaN</td>\n",
       "      <td>NaN</td>\n",
       "      <td>NaN</td>\n",
       "      <td>NaN</td>\n",
       "      <td>NaN</td>\n",
       "    </tr>\n",
       "    <tr>\n",
       "      <th>3</th>\n",
       "      <td>NaN</td>\n",
       "      <td>NaN</td>\n",
       "      <td>NaN</td>\n",
       "      <td>NaN</td>\n",
       "      <td>NaN</td>\n",
       "      <td>NaN</td>\n",
       "      <td>NaN</td>\n",
       "      <td>NaN</td>\n",
       "      <td>NaN</td>\n",
       "      <td>NaN</td>\n",
       "      <td>...</td>\n",
       "      <td>NaN</td>\n",
       "      <td>NaN</td>\n",
       "      <td>NaN</td>\n",
       "      <td>NaN</td>\n",
       "      <td>NaN</td>\n",
       "      <td>NaN</td>\n",
       "      <td>NaN</td>\n",
       "      <td>NaN</td>\n",
       "      <td>NaN</td>\n",
       "      <td>NaN</td>\n",
       "    </tr>\n",
       "    <tr>\n",
       "      <th>4</th>\n",
       "      <td>NaN</td>\n",
       "      <td>NaN</td>\n",
       "      <td>NaN</td>\n",
       "      <td>NaN</td>\n",
       "      <td>NaN</td>\n",
       "      <td>NaN</td>\n",
       "      <td>NaN</td>\n",
       "      <td>NaN</td>\n",
       "      <td>NaN</td>\n",
       "      <td>NaN</td>\n",
       "      <td>...</td>\n",
       "      <td>NaN</td>\n",
       "      <td>NaN</td>\n",
       "      <td>NaN</td>\n",
       "      <td>NaN</td>\n",
       "      <td>NaN</td>\n",
       "      <td>NaN</td>\n",
       "      <td>NaN</td>\n",
       "      <td>NaN</td>\n",
       "      <td>NaN</td>\n",
       "      <td>NaN</td>\n",
       "    </tr>\n",
       "    <tr>\n",
       "      <th>5</th>\n",
       "      <td>4.0</td>\n",
       "      <td>NaN</td>\n",
       "      <td>NaN</td>\n",
       "      <td>NaN</td>\n",
       "      <td>NaN</td>\n",
       "      <td>NaN</td>\n",
       "      <td>NaN</td>\n",
       "      <td>NaN</td>\n",
       "      <td>NaN</td>\n",
       "      <td>NaN</td>\n",
       "      <td>...</td>\n",
       "      <td>NaN</td>\n",
       "      <td>NaN</td>\n",
       "      <td>NaN</td>\n",
       "      <td>NaN</td>\n",
       "      <td>NaN</td>\n",
       "      <td>NaN</td>\n",
       "      <td>NaN</td>\n",
       "      <td>NaN</td>\n",
       "      <td>NaN</td>\n",
       "      <td>NaN</td>\n",
       "    </tr>\n",
       "  </tbody>\n",
       "</table>\n",
       "<p>5 rows × 9724 columns</p>\n",
       "</div>"
      ],
      "text/plain": [
       "movieId  1       2       3       4       5       6       7       8       \\\n",
       "userId                                                                    \n",
       "1           4.0     NaN     4.0     NaN     NaN     4.0     NaN     NaN   \n",
       "2           NaN     NaN     NaN     NaN     NaN     NaN     NaN     NaN   \n",
       "3           NaN     NaN     NaN     NaN     NaN     NaN     NaN     NaN   \n",
       "4           NaN     NaN     NaN     NaN     NaN     NaN     NaN     NaN   \n",
       "5           4.0     NaN     NaN     NaN     NaN     NaN     NaN     NaN   \n",
       "\n",
       "movieId  9       10      ...  193565  193567  193571  193573  193579  193581  \\\n",
       "userId                   ...                                                   \n",
       "1           NaN     NaN  ...     NaN     NaN     NaN     NaN     NaN     NaN   \n",
       "2           NaN     NaN  ...     NaN     NaN     NaN     NaN     NaN     NaN   \n",
       "3           NaN     NaN  ...     NaN     NaN     NaN     NaN     NaN     NaN   \n",
       "4           NaN     NaN  ...     NaN     NaN     NaN     NaN     NaN     NaN   \n",
       "5           NaN     NaN  ...     NaN     NaN     NaN     NaN     NaN     NaN   \n",
       "\n",
       "movieId  193583  193585  193587  193609  \n",
       "userId                                   \n",
       "1           NaN     NaN     NaN     NaN  \n",
       "2           NaN     NaN     NaN     NaN  \n",
       "3           NaN     NaN     NaN     NaN  \n",
       "4           NaN     NaN     NaN     NaN  \n",
       "5           NaN     NaN     NaN     NaN  \n",
       "\n",
       "[5 rows x 9724 columns]"
      ]
     },
     "execution_count": 321,
     "metadata": {},
     "output_type": "execute_result"
    }
   ],
   "source": [
    "rating_pivot = pd.pivot_table(ratings, index='userId', columns='movieId', values='rating')\n",
    "rating_pivot.head()"
   ]
  },
  {
   "cell_type": "markdown",
   "id": "890706fa",
   "metadata": {},
   "source": [
    "### Saving pivot_table to save calculation time"
   ]
  },
  {
   "cell_type": "code",
   "execution_count": 322,
   "id": "e5cc95b7",
   "metadata": {},
   "outputs": [],
   "source": [
    "#rating_pivot.to_csv(r'..\\pivot_table.csv')"
   ]
  },
  {
   "cell_type": "markdown",
   "id": "c8dbbd6c",
   "metadata": {},
   "source": [
    "## Actual recommendation algorithm"
   ]
  },
  {
   "cell_type": "markdown",
   "id": "0d76e088",
   "metadata": {},
   "source": [
    "### Main function"
   ]
  },
  {
   "cell_type": "code",
   "execution_count": 300,
   "id": "ea320b11",
   "metadata": {},
   "outputs": [],
   "source": [
    "def recommendation(movie_id):\n",
    "    #calculating correlation to other users\n",
    "    correlation = rating_pivot.corrwith(rating_pivot[movie_id])\n",
    "    #creating table\n",
    "    corr_movie = pd.DataFrame(correlation, columns=['correlation'])\n",
    "    #dropping movies non values => no correlation\n",
    "    corr_movie.dropna(inplace=True)\n",
    "    #adding total count of ratings for each movie to the table\n",
    "    corr_movie = corr_movie.join(rating_info['count'])\n",
    "    #listing movies by correlation score and just using movies with more then the 90th percentile of the total count of ratings per movie\n",
    "    cutoff = rating_info['count'].quantile(0.90)\n",
    "    corr_movie = corr_movie[corr_movie['count']>cutoff].sort_values('correlation', ascending=False)\n",
    "    #deleting movie that the recommendation is based on from recommendation list\n",
    "    if movie_id in corr_movie.index:\n",
    "        corr_movie = corr_movie.drop([movie_id])\n",
    "    #changing index to ranking and movieId to column\n",
    "    corr_movie['movieId'] = corr_movie.index\n",
    "    corr_movie = corr_movie.set_index(pd.Index(list(range(len(corr_movie)))))\n",
    "    return corr_movie"
   ]
  },
  {
   "cell_type": "markdown",
   "id": "5a09bcdf",
   "metadata": {},
   "source": [
    "### Inititializing recommendation with ids 11, 15, 18"
   ]
  },
  {
   "cell_type": "code",
   "execution_count": 301,
   "id": "9e479b79",
   "metadata": {
    "scrolled": false
   },
   "outputs": [
    {
     "name": "stderr",
     "output_type": "stream",
     "text": [
      "c:\\python39\\lib\\site-packages\\numpy\\lib\\function_base.py:2634: RuntimeWarning: Degrees of freedom <= 0 for slice\n",
      "  c = cov(x, y, rowvar, dtype=dtype)\n",
      "c:\\python39\\lib\\site-packages\\numpy\\lib\\function_base.py:2493: RuntimeWarning: divide by zero encountered in true_divide\n",
      "  c *= np.true_divide(1, fact)\n",
      "c:\\python39\\lib\\site-packages\\numpy\\lib\\function_base.py:2634: RuntimeWarning: Degrees of freedom <= 0 for slice\n",
      "  c = cov(x, y, rowvar, dtype=dtype)\n",
      "c:\\python39\\lib\\site-packages\\numpy\\lib\\function_base.py:2493: RuntimeWarning: divide by zero encountered in true_divide\n",
      "  c *= np.true_divide(1, fact)\n",
      "c:\\python39\\lib\\site-packages\\numpy\\lib\\function_base.py:2634: RuntimeWarning: Degrees of freedom <= 0 for slice\n",
      "  c = cov(x, y, rowvar, dtype=dtype)\n",
      "c:\\python39\\lib\\site-packages\\numpy\\lib\\function_base.py:2493: RuntimeWarning: divide by zero encountered in true_divide\n",
      "  c *= np.true_divide(1, fact)\n"
     ]
    }
   ],
   "source": [
    "movie_ids = [11, 15, 18]\n",
    "rec_movies_list = []\n",
    "rec_movies_dict = {}\n",
    "for i in movie_ids:\n",
    "    rec = recommendation(i)\n",
    "    #adding top 5 recommended movies to array \n",
    "    for k in range(5):\n",
    "        rec_movies_list.append(int(rec.iloc[k].array[2]))\n",
    "    #counting top recommended movies\n",
    "    rec_count = collections.Counter(rec_movies_list)\n",
    "    #adding top 5 recommended movies to array \n",
    "    for k in range(5):\n",
    "        rec_movies_dict[int(rec.iloc[k][2])] = rec.iloc[k][0]"
   ]
  },
  {
   "cell_type": "code",
   "execution_count": 304,
   "id": "ec802221",
   "metadata": {},
   "outputs": [
    {
     "name": "stdout",
     "output_type": "stream",
     "text": [
      "74789 : 1 * 1.0 = 1.0\n",
      "8957 : 1 * 1.0 = 1.0\n",
      "68237 : 1 * 1.0 = 1.0\n",
      "3409 : 1 * 1.0 = 1.0\n",
      "84152 : 1 * 0.9999999999999999 = 0.9999999999999999\n",
      "134130 : 1 * 1.0 = 1.0\n",
      "3793 : 1 * 1.0 = 1.0\n",
      "52973 : 1 * 1.0 = 1.0\n",
      "4018 : 1 * 1.0 = 1.0\n",
      "54286 : 1 * 1.0 = 1.0\n",
      "152081 : 1 * 1.0 = 1.0\n",
      "3681 : 1 * 1.0 = 1.0\n",
      "74458 : 1 * 1.0 = 1.0\n",
      "61024 : 1 * 1.0 = 1.0\n",
      "2871 : 1 * 1.0 = 1.0\n"
     ]
    }
   ],
   "source": [
    "rec_movies_final = copy.deepcopy(rec_count) \n",
    "#combining\n",
    "for k in rec_count:\n",
    "    rec_movies_final.update({k: rec_count.get(k) * rec_movies_dict.get(k) - rec_count.get(k)})\n",
    "    print(k, ':', rec_count.get(k), '*', rec_movies_dict.get(k), '=', rec_count.get(k) * rec_movies_dict.get(k))\n",
    "\n",
    "rec_movies_ids = sorted(rec_movies_final, key=rec_final.get, reverse=True)[:10]"
   ]
  },
  {
   "cell_type": "code",
   "execution_count": 323,
   "id": "45955b5b",
   "metadata": {},
   "outputs": [
    {
     "name": "stdout",
     "output_type": "stream",
     "text": [
      "Alice in Wonderland (2010)\n",
      "Saw (2004)\n",
      "Moon (2009)\n",
      "Final Destination (2000)\n",
      "The Martian (2015)\n",
      "X-Men (2000)\n",
      "Knocked Up (2007)\n",
      "What Women Want (2000)\n",
      "Bourne Ultimatum, The (2007)\n",
      "Zootopia (2016)\n"
     ]
    }
   ],
   "source": [
    "rec_movies_titles = []\n",
    "for i in rec_movies_ids:\n",
    "    rec_movies_titles.append(movies_metadata.loc[movies_metadata['movieId'] == int(i), 'title'].array)\n",
    "for i in rec_movies_titles:\n",
    "    #if clause was used to determine wether the movieId was in metadata_set\n",
    "    if not i:\n",
    "        print('empty')\n",
    "    else:\n",
    "        print(i[0])"
   ]
  },
  {
   "cell_type": "markdown",
   "id": "38680567",
   "metadata": {},
   "source": [
    "### Testing for web app (random movie ids)"
   ]
  },
  {
   "cell_type": "code",
   "execution_count": 324,
   "id": "50036e51",
   "metadata": {},
   "outputs": [
    {
     "name": "stdout",
     "output_type": "stream",
     "text": [
      "['Billy Liar (1963)', 'South Pacific (1958)', 'Fourth Protocol, The (1987)', 'Edmond (2005)', 'Dragonheart (1996)', 'Cocoanuts, The (1929)', 'Wonder Wheel (2017)', 'Stoning of Soraya M., The (2008)', 'Battle Royale 2: Requiem (Batoru rowaiaru II: Chinkonka) (2003)', 'Howling, The (1980)']\n"
     ]
    }
   ],
   "source": [
    "movies_id = movies.loc[:,'movieId'].array\n",
    "#choosing 10 random movieIds from collection\n",
    "random_ids = []\n",
    "for i in range(10):\n",
    "    random_ids.append(random.choice(movies.loc[:,'movieId'].array))\n",
    "movie_selection = []\n",
    "for i in random_ids:\n",
    "    movie_selection.append(movies.loc[movies['movieId'] == int(i), 'title'].array[0])\n",
    "print(movie_selection)"
   ]
  },
  {
   "cell_type": "markdown",
   "id": "ab8c3bcf",
   "metadata": {},
   "source": [
    "### Checking if rating ids in metadata\n",
    "(not exacutable since data is not imported anymore)"
   ]
  },
  {
   "cell_type": "code",
   "execution_count": 205,
   "id": "ea6a0426",
   "metadata": {
    "scrolled": true
   },
   "outputs": [
    {
     "name": "stdout",
     "output_type": "stream",
     "text": [
      "100004/100004\n",
      "ratings_small:\n",
      "Not in: 55015\n",
      "In: 44989\n"
     ]
    }
   ],
   "source": [
    "from IPython.display import clear_output\n",
    "\n",
    "not_in_meta_small = []\n",
    "in_meta_small = []\n",
    "a=1\n",
    "length = str(len(ratings_small.movieId))\n",
    "\n",
    "for i in ratings_small.movieId:\n",
    "    clear_output(wait=True)\n",
    "    print(str(a)+'/'+length)\n",
    "    a+=1\n",
    "    if not movies_metadata.loc[movies_metadata['id'] == str(i), 'original_title'].array:\n",
    "        not_in_meta_small.append(i)\n",
    "    else:\n",
    "        in_meta_small.append(i)  \n",
    "        \n",
    "print('ratings_small:')\n",
    "print('Not in:', len(not_in_meta_small))\n",
    "print('In:', len(in_meta_small))"
   ]
  },
  {
   "cell_type": "markdown",
   "id": "1152e525",
   "metadata": {},
   "source": [
    "#### Output:\n",
    "ratings_small:\n",
    "Not in: 55015<br>\n",
    "In: 44989<br>"
   ]
  },
  {
   "cell_type": "code",
   "execution_count": 206,
   "id": "6768232a",
   "metadata": {
    "scrolled": false
   },
   "outputs": [
    {
     "name": "stdout",
     "output_type": "stream",
     "text": [
      "26024289/26024289\n",
      "ratings:\n",
      "Not in:  14587721\n",
      "In:  11436568\n"
     ]
    }
   ],
   "source": [
    "from IPython.display import clear_output\n",
    "\n",
    "a=1\n",
    "length = str(len(ratings.movieId))\n",
    "not_in_meta = []\n",
    "in_meta = []\n",
    "\n",
    "for i in ratings.movieId:\n",
    "    clear_output(wait=True)\n",
    "    print(str(a)+'/'+length)\n",
    "    a+=1\n",
    "    if not movies_metadata.loc[movies_metadata['id'] == str(i), 'original_title'].array:\n",
    "        not_in_meta.append(i)\n",
    "    else:\n",
    "        in_meta.append(i)\n",
    "        \n",
    "print('ratings:')     \n",
    "print('Not in: ', len(not_in_meta))\n",
    "print('In: ', len(in_meta))"
   ]
  },
  {
   "cell_type": "markdown",
   "id": "095c68d7",
   "metadata": {},
   "source": [
    "#### Output:\n",
    "ratings:<br>\n",
    "Not in:  14587721<br>\n",
    "In:  11436568<br>"
   ]
  },
  {
   "cell_type": "code",
   "execution_count": 211,
   "id": "e0baa21f",
   "metadata": {},
   "outputs": [],
   "source": [
    "from numpy import asarray\n",
    "from numpy import savetxt\n",
    "# define data\n",
    "data = asarray(not_in_meta_small)\n",
    "# save to csv file\n",
    "savetxt('not_in_meta_small.csv', data, delimiter=',')"
   ]
  },
  {
   "cell_type": "code",
   "execution_count": 216,
   "id": "a73f700f",
   "metadata": {},
   "outputs": [],
   "source": [
    "with open(\"not_in_meta_small.txt\", \"w\") as output:\n",
    "    output.write(str(not_in_meta_small))\n",
    "\n",
    "with open(\"in_meta_small.txt\", \"w\") as output:\n",
    "    output.write(str(in_meta_small)) \n",
    "    \n",
    "with open(\"not_in_meta.txt\", \"w\") as output:\n",
    "    output.write(str(not_in_meta))\n",
    "\n",
    "with open(\"in_meta.txt\", \"w\") as output:\n",
    "    output.write(str(in_meta))"
   ]
  },
  {
   "cell_type": "code",
   "execution_count": 217,
   "id": "c3438eb3",
   "metadata": {},
   "outputs": [],
   "source": [
    "def get_missing_ids(list):\n",
    "    list_count = collections.Counter(list)\n",
    "    return sorted(list_count, key=list_count.get, reverse=True)"
   ]
  },
  {
   "cell_type": "code",
   "execution_count": 220,
   "id": "109f5f1e",
   "metadata": {},
   "outputs": [
    {
     "name": "stdout",
     "output_type": "stream",
     "text": [
      "Small:\n",
      "Not in meta: 6236\n",
      "In meta: 2830\n",
      "Big:\n",
      "Not in meta: 37550\n",
      "In meta: 7565\n"
     ]
    }
   ],
   "source": [
    "print('Small:')\n",
    "print('Not in meta:', len(get_missing_ids(not_in_meta_small)))\n",
    "print('In meta:', len(get_missing_ids(in_meta_small)))\n",
    "print('Big:')\n",
    "print('Not in meta:', len(get_missing_ids(not_in_meta)))\n",
    "print('In meta:', len(get_missing_ids(in_meta)))"
   ]
  },
  {
   "cell_type": "markdown",
   "id": "ad0452df",
   "metadata": {},
   "source": [
    "#### Output\n",
    "Small:<br>\n",
    "Not in meta: 6236<br>\n",
    "In meta: 2830<br>\n",
    "Big:<br>\n",
    "Not in meta: 37550<br>\n",
    "In meta: 7565<br>"
   ]
  }
 ],
 "metadata": {
  "kernelspec": {
   "display_name": "Python 3",
   "language": "python",
   "name": "python3"
  },
  "language_info": {
   "codemirror_mode": {
    "name": "ipython",
    "version": 3
   },
   "file_extension": ".py",
   "mimetype": "text/x-python",
   "name": "python",
   "nbconvert_exporter": "python",
   "pygments_lexer": "ipython3",
   "version": "3.9.1"
  }
 },
 "nbformat": 4,
 "nbformat_minor": 5
}
