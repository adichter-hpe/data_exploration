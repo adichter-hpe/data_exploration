{
 "cells": [
  {
   "cell_type": "markdown",
   "id": "2dc70130",
   "metadata": {},
   "source": [
    "Rating Based Recommendation"
   ]
  },
  {
   "cell_type": "code",
   "execution_count": null,
   "id": "6e4bdc42",
   "metadata": {},
   "outputs": [],
   "source": [
    "import numpy as np\n",
    "import pandas as pd\n",
    "import sklearn"
   ]
  },
  {
   "cell_type": "code",
   "execution_count": null,
   "id": "26851410",
   "metadata": {},
   "outputs": [],
   "source": [
    "ratings = pd.read_csv (r'./../data/ratings.csv')\n",
    "ratings_small = pd.read_csv (r'./../data/ratings_small.csv')\n",
    "credits = pd.read_csv (r'./../data/credits.csv')\n",
    "keywords = pd.read_csv (r'./../data/keywords.csv')\n",
    "links = pd.read_csv (r'./../data/links.csv')\n",
    "links_small = pd.read_csv (r'./../data/links_small.csv')\n",
    "movies_metadata = pd.read_csv (r'./../data/movies_metadata.csv')"
   ]
  },
  {
   "cell_type": "code",
   "execution_count": null,
   "id": "0ec73bd6",
   "metadata": {},
   "outputs": [],
   "source": [
    "ratings.head()"
   ]
  },
  {
   "cell_type": "code",
   "execution_count": null,
   "id": "ff5dd77f",
   "metadata": {},
   "outputs": [],
   "source": [
    "ratings_small.head()"
   ]
  },
  {
   "cell_type": "code",
   "execution_count": null,
   "id": "3c80eecf",
   "metadata": {},
   "outputs": [],
   "source": [
    "credits.head()"
   ]
  },
  {
   "cell_type": "code",
   "execution_count": null,
   "id": "e74a9129",
   "metadata": {},
   "outputs": [],
   "source": [
    "keywords.head()"
   ]
  },
  {
   "cell_type": "code",
   "execution_count": null,
   "id": "fb82f643",
   "metadata": {},
   "outputs": [],
   "source": [
    "links.head()"
   ]
  },
  {
   "cell_type": "code",
   "execution_count": null,
   "id": "68d6c1ef",
   "metadata": {},
   "outputs": [],
   "source": [
    "links_small.head()"
   ]
  },
  {
   "cell_type": "code",
   "execution_count": null,
   "id": "4bcbef78",
   "metadata": {},
   "outputs": [],
   "source": [
    "movies_metadata.head()"
   ]
  }
 ],
 "metadata": {
  "kernelspec": {
   "display_name": "Python 3",
   "language": "python",
   "name": "python3"
  },
  "language_info": {
   "codemirror_mode": {
    "name": "ipython",
    "version": 3
   },
   "file_extension": ".py",
   "mimetype": "text/x-python",
   "name": "python",
   "nbconvert_exporter": "python",
   "pygments_lexer": "ipython3",
   "version": "3.9.1"
  }
 },
 "nbformat": 4,
 "nbformat_minor": 5
}
