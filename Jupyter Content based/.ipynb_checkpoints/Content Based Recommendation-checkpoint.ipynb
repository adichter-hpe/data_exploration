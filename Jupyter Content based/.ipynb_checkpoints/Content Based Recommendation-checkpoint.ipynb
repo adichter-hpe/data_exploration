{
 "cells": [
  {
   "cell_type": "markdown",
   "id": "f6ccb7be",
   "metadata": {},
   "source": [
    "Content Based Recommendation"
   ]
  },
  {
   "cell_type": "code",
   "execution_count": 13,
   "id": "f23e2125",
   "metadata": {},
   "outputs": [],
   "source": [
    "import numpy as np\n",
    "import pandas as pd\n",
    "import sklearn\n",
    "from ast import literal_eval\n",
    "from sklearn.feature_extraction.text import CountVectorizer\n",
    "from sklearn.feature_extraction.text import TfidfVectorizer\n",
    "from sklearn.metrics.pairwise import cosine_similarity\n",
    "from sklearn.metrics.pairwise import linear_kernel\n",
    "\n",
    "import difflib"
   ]
  },
  {
   "cell_type": "code",
   "execution_count": 14,
   "id": "f1acd83a",
   "metadata": {},
   "outputs": [],
   "source": [
    "#ratings = pd.read_csv (r'./../data/ratings.csv', low_memory=False)\n",
    "#ratings_small = pd.read_csv (r'./../data/ratings_small.csv', low_memory=False)\n",
    "credits = pd.read_csv (r'./../data/credits.csv', low_memory=False)\n",
    "keywords = pd.read_csv (r'./../data/keywords.csv', low_memory=False)\n",
    "#links = pd.read_csv (r'./../data/links.csv', low_memory=False)\n",
    "#links_small = pd.read_csv (r'./../data/links_small.csv', low_memory=False)\n",
    "metadata = pd.read_csv (r'./../data/movies_metadata.csv', low_memory=False)"
   ]
  },
  {
   "cell_type": "code",
   "execution_count": 15,
   "id": "29609e5b",
   "metadata": {},
   "outputs": [],
   "source": [
    "#ratings.head()"
   ]
  },
  {
   "cell_type": "code",
   "execution_count": 16,
   "id": "b38d0586",
   "metadata": {},
   "outputs": [],
   "source": [
    "#credits.head()"
   ]
  },
  {
   "cell_type": "code",
   "execution_count": 17,
   "id": "82e8bf92",
   "metadata": {},
   "outputs": [],
   "source": [
    "#metadata.head()"
   ]
  },
  {
   "cell_type": "code",
   "execution_count": 18,
   "id": "5331d945",
   "metadata": {},
   "outputs": [],
   "source": [
    "metadata = metadata[~metadata.id.str.contains(\"-\")]"
   ]
  },
  {
   "cell_type": "markdown",
   "id": "daa65812",
   "metadata": {},
   "source": [
    "**Recommendation based on different metadata**  \n",
    "Actors, director, keywords, etc. are looked at as well"
   ]
  },
  {
   "cell_type": "code",
   "execution_count": 19,
   "id": "10ece34d",
   "metadata": {
    "scrolled": true
   },
   "outputs": [],
   "source": [
    "# Convert IDs to int. Required for merging\n",
    "keywords['id'] = keywords['id'].astype('int')\n",
    "credits['id'] = credits['id'].astype('int')\n",
    "metadata['id'] = metadata['id'].astype('int')"
   ]
  },
  {
   "cell_type": "code",
   "execution_count": 20,
   "id": "b422ec25",
   "metadata": {},
   "outputs": [],
   "source": [
    "# Merge keywords and credits into your main metadata dataframe\n",
    "metadata = metadata.merge(credits, on='id')\n",
    "metadata = metadata.merge(keywords, on='id')"
   ]
  },
  {
   "cell_type": "code",
   "execution_count": 21,
   "id": "ebd2671f",
   "metadata": {},
   "outputs": [],
   "source": [
    "# Parse the stringified features into their corresponding python objects\n",
    "features = ['cast', 'crew', 'keywords', 'genres']\n",
    "for feature in features:\n",
    "    metadata[feature] = metadata[feature].apply(literal_eval)"
   ]
  },
  {
   "cell_type": "code",
   "execution_count": 22,
   "id": "5502af90",
   "metadata": {},
   "outputs": [],
   "source": [
    "def get_director(x):\n",
    "    for i in x:\n",
    "        if i['job'] == 'Director':\n",
    "            return i['name']\n",
    "    return np.nan\n",
    "\n",
    "def get_list(x):\n",
    "    if isinstance(x, list):\n",
    "        names = [i['name'] for i in x]\n",
    "        #Check if more than 3 elements exist. If yes, return only first three. If no, return entire list.\n",
    "        if len(names) > 3:\n",
    "            names = names[:3]\n",
    "        return names\n",
    "\n",
    "    #Return empty list in case of missing/malformed data\n",
    "    return []"
   ]
  },
  {
   "cell_type": "code",
   "execution_count": 23,
   "id": "1bc1306c",
   "metadata": {},
   "outputs": [],
   "source": [
    "# Define new director, cast, genres and keywords features that are in a suitable form.\n",
    "metadata['director'] = metadata['crew'].apply(get_director)\n",
    "\n",
    "features = ['cast', 'keywords', 'genres']\n",
    "for feature in features:\n",
    "    metadata[feature] = metadata[feature].apply(get_list)"
   ]
  },
  {
   "cell_type": "code",
   "execution_count": 24,
   "id": "f320447c",
   "metadata": {},
   "outputs": [],
   "source": [
    "# Function to convert all strings to lower case and strip names of spaces\n",
    "def clean_data(x):\n",
    "    if isinstance(x, list):\n",
    "        return [str.lower(i.replace(\" \", \"\")) for i in x]\n",
    "    else:\n",
    "        #Check if director exists. If not, return empty string\n",
    "        if isinstance(x, str):\n",
    "            return str.lower(x.replace(\" \", \"\"))\n",
    "        else:\n",
    "            return ''\n",
    "\n",
    "# Apply clean_data function to your features.\n",
    "features = ['cast', 'keywords', 'director', 'genres']\n",
    "\n",
    "for feature in features:\n",
    "    metadata[feature] = metadata[feature].apply(clean_data)"
   ]
  },
  {
   "cell_type": "code",
   "execution_count": 25,
   "id": "3a2082c5",
   "metadata": {},
   "outputs": [
    {
     "data": {
      "text/html": [
       "<div>\n",
       "<style scoped>\n",
       "    .dataframe tbody tr th:only-of-type {\n",
       "        vertical-align: middle;\n",
       "    }\n",
       "\n",
       "    .dataframe tbody tr th {\n",
       "        vertical-align: top;\n",
       "    }\n",
       "\n",
       "    .dataframe thead th {\n",
       "        text-align: right;\n",
       "    }\n",
       "</style>\n",
       "<table border=\"1\" class=\"dataframe\">\n",
       "  <thead>\n",
       "    <tr style=\"text-align: right;\">\n",
       "      <th></th>\n",
       "      <th>soup</th>\n",
       "    </tr>\n",
       "  </thead>\n",
       "  <tbody>\n",
       "    <tr>\n",
       "      <th>0</th>\n",
       "      <td>jealousy toy boy tomhanks timallen donrickles ...</td>\n",
       "    </tr>\n",
       "    <tr>\n",
       "      <th>1</th>\n",
       "      <td>boardgame disappearance basedonchildren'sbook ...</td>\n",
       "    </tr>\n",
       "  </tbody>\n",
       "</table>\n",
       "</div>"
      ],
      "text/plain": [
       "                                                soup\n",
       "0  jealousy toy boy tomhanks timallen donrickles ...\n",
       "1  boardgame disappearance basedonchildren'sbook ..."
      ]
     },
     "execution_count": 25,
     "metadata": {},
     "output_type": "execute_result"
    }
   ],
   "source": [
    "def create_soup(x):\n",
    "    return ' '.join(x['keywords']) + ' ' + ' '.join(x['cast']) + ' ' + x['director'] + ' ' + ' '.join(x['genres'])\n",
    "\n",
    "# Create a new soup feature\n",
    "metadata['soup'] = metadata.apply(create_soup, axis=1)\n",
    "\n",
    "metadata[['soup']].head(2)"
   ]
  },
  {
   "cell_type": "code",
   "execution_count": 26,
   "id": "a71af891",
   "metadata": {},
   "outputs": [
    {
     "data": {
      "text/plain": [
       "(46628, 73881)"
      ]
     },
     "execution_count": 26,
     "metadata": {},
     "output_type": "execute_result"
    }
   ],
   "source": [
    "# create count matrix with CountVectorizer\n",
    "count = CountVectorizer(stop_words='english')\n",
    "count_matrix = count.fit_transform(metadata['soup'])\n",
    "count_matrix.shape"
   ]
  },
  {
   "cell_type": "code",
   "execution_count": 27,
   "id": "96e5f7c7",
   "metadata": {},
   "outputs": [],
   "source": [
    "# Compute the Cosine Similarity matrix based on the count_matrix\n",
    "cosine_sim = cosine_similarity(count_matrix, count_matrix)"
   ]
  },
  {
   "cell_type": "code",
   "execution_count": 67,
   "id": "95234302",
   "metadata": {},
   "outputs": [],
   "source": [
    "# Reset index of your main DataFrame and construct reverse mapping as before\n",
    "metadata = metadata.reset_index()\n",
    "indices = pd.Series(metadata.index, index=metadata['id'])"
   ]
  },
  {
   "cell_type": "code",
   "execution_count": 68,
   "id": "a10c0b25",
   "metadata": {},
   "outputs": [],
   "source": [
    "def get_recommendations(id, cosine_sim=cosine_sim):\n",
    "    # Get the index of the movie that matches the title\n",
    "    idx = indices[id]\n",
    "\n",
    "    # Get the pairwsie similarity scores of all movies with that movie\n",
    "    sim_scores = list(enumerate(cosine_sim[idx]))\n",
    "\n",
    "    # Sort the movies based on the similarity scores\n",
    "    sim_scores = sorted(sim_scores, key=lambda x: x[1], reverse=True)\n",
    "\n",
    "    # Get the scores of the 10 most similar movies\n",
    "    sim_scores = sim_scores[1:11]\n",
    "\n",
    "    # Get the movie indices\n",
    "    movie_indices = [i[0] for i in sim_scores]\n",
    "\n",
    "    # Return the top 10 most similar movies\n",
    "    return metadata['title'].iloc[movie_indices]"
   ]
  },
  {
   "cell_type": "code",
   "execution_count": 86,
   "id": "6cf78096",
   "metadata": {},
   "outputs": [
    {
     "name": "stdout",
     "output_type": "stream",
     "text": [
      "Your title: toy story\n"
     ]
    }
   ],
   "source": [
    "input_title = input(\"Your title: \")"
   ]
  },
  {
   "cell_type": "code",
   "execution_count": 87,
   "id": "4f758549",
   "metadata": {},
   "outputs": [
    {
     "name": "stdout",
     "output_type": "stream",
     "text": [
      "['Toy Story', 'Toy Story 3', 'Toy Story 2', 'Autohystoria', 'Love Story']\n"
     ]
    }
   ],
   "source": [
    "possible_titles = difflib.get_close_matches(input_title, metadata['original_title'].tolist(), 5)\n",
    "print(possible_titles)"
   ]
  },
  {
   "cell_type": "code",
   "execution_count": 88,
   "id": "75b7b69c",
   "metadata": {},
   "outputs": [],
   "source": [
    "id_array = []\n",
    "for i in possible_titles:\n",
    "    id_array.append(metadata.loc[metadata['original_title'] == str(i), 'id'].array[0])"
   ]
  },
  {
   "cell_type": "code",
   "execution_count": 89,
   "id": "9465a003",
   "metadata": {},
   "outputs": [
    {
     "name": "stdout",
     "output_type": "stream",
     "text": [
      "[862, 10193, 863, 44570, 9062]\n"
     ]
    }
   ],
   "source": [
    "print(id_array)"
   ]
  },
  {
   "cell_type": "code",
   "execution_count": 90,
   "id": "fb19299f",
   "metadata": {},
   "outputs": [
    {
     "name": "stdout",
     "output_type": "stream",
     "text": [
      "What's your film? 0\n"
     ]
    }
   ],
   "source": [
    "input_number = int(input(\"What's your film? \"))\n",
    "chosen_id = id_array[input_number]"
   ]
  },
  {
   "cell_type": "code",
   "execution_count": 91,
   "id": "6bcc3f64",
   "metadata": {},
   "outputs": [
    {
     "name": "stdout",
     "output_type": "stream",
     "text": [
      "862\n"
     ]
    }
   ],
   "source": [
    "print(chosen_id)"
   ]
  },
  {
   "cell_type": "code",
   "execution_count": 92,
   "id": "e2d065d5",
   "metadata": {},
   "outputs": [
    {
     "data": {
      "text/plain": [
       "3024                       Toy Story 2\n",
       "15519                      Toy Story 3\n",
       "29198                  Superstar Goofy\n",
       "26001       Toy Story That Time Forgot\n",
       "22126             Toy Story of Terror!\n",
       "3336                 Creature Comforts\n",
       "25999                  Partysaurus Rex\n",
       "27606                            Anina\n",
       "43071    Dexter's Laboratory: Ego Trip\n",
       "28005                    Radiopiratene\n",
       "Name: title, dtype: object"
      ]
     },
     "execution_count": 92,
     "metadata": {},
     "output_type": "execute_result"
    }
   ],
   "source": [
    "get_recommendations(chosen_id, cosine_sim)"
   ]
  },
  {
   "cell_type": "code",
   "execution_count": null,
   "id": "70dc0478",
   "metadata": {},
   "outputs": [],
   "source": []
  }
 ],
 "metadata": {
  "kernelspec": {
   "display_name": "Python 3",
   "language": "python",
   "name": "python3"
  },
  "language_info": {
   "codemirror_mode": {
    "name": "ipython",
    "version": 3
   },
   "file_extension": ".py",
   "mimetype": "text/x-python",
   "name": "python",
   "nbconvert_exporter": "python",
   "pygments_lexer": "ipython3",
   "version": "3.8.10"
  }
 },
 "nbformat": 4,
 "nbformat_minor": 5
}
